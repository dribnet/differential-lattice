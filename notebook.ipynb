{
 "cells": [
  {
   "cell_type": "markdown",
   "metadata": {},
   "source": [
    "### differential-lattice running in p55py (a jupyter widget)\n"
   ]
  },
  {
   "cell_type": "code",
   "execution_count": 1,
   "metadata": {
    "collapsed": false
   },
   "outputs": [],
   "source": [
    "# imports\n",
    "from p55py import P55Wrapper\n",
    "from numpy import array\n",
    "from modules.differentialLattice import DifferentialLattice\n",
    "from modules.helpers import spawn_circle"
   ]
  },
  {
   "cell_type": "code",
   "execution_count": 2,
   "metadata": {
    "collapsed": true
   },
   "outputs": [],
   "source": [
    "# differential-lattice constants\n",
    "colors = {\n",
    "  'back': (255,255,255,255),\n",
    "  'front': (0,0,0,178),\n",
    "  'cyan': (0,153,153,178),\n",
    "  'purple': (153,0,153,178),\n",
    "  'light': (0,0,0,51),\n",
    "}\n",
    "\n",
    "threads = 512\n",
    "zone_leap = 512\n",
    "\n",
    "size = 320\n",
    "one = 1.0/size\n",
    "\n",
    "export_steps = 5\n",
    "render_steps = 5\n",
    "\n",
    "init_num = 20\n",
    "\n",
    "line_width = one*2.5\n",
    "\n",
    "stp = one*0.03\n",
    "spring_stp = 5\n",
    "reject_stp = 0.1\n",
    "cohesion_stp = 1.0\n",
    "\n",
    "max_capacity = 30\n",
    "\n",
    "node_rad = 4*one\n",
    "spring_reject_rad = node_rad*1.9\n",
    "spring_attract_rad = node_rad*2.0\n",
    "outer_influence_rad = 10.0*node_rad\n",
    "link_ignore_rad = 0.5*outer_influence_rad"
   ]
  },
  {
   "cell_type": "markdown",
   "metadata": {},
   "source": [
    "### define three p55py callbacks: setup, step, and render"
   ]
  },
  {
   "cell_type": "code",
   "execution_count": 3,
   "metadata": {
    "collapsed": false
   },
   "outputs": [],
   "source": [
    "# setup initializes the model\n",
    "def setup_dl(self):\n",
    "  self.dl = DifferentialLattice(\n",
    "      size,\n",
    "      stp,\n",
    "      spring_stp,\n",
    "      reject_stp,\n",
    "      cohesion_stp,\n",
    "      max_capacity,\n",
    "      node_rad,\n",
    "      spring_reject_rad,\n",
    "      spring_attract_rad,\n",
    "      outer_influence_rad,\n",
    "      link_ignore_rad,\n",
    "      threads = threads,\n",
    "      zone_leap = zone_leap,\n",
    "      nmax = 50000000\n",
    "      )\n",
    "  spawn_circle(self.dl, init_num , xy=array([[0.5,0.5]]), dst=node_rad*0.8, rad=0.01)\n",
    "    \n",
    "# step updates the model\n",
    "def step_dl(self):\n",
    "    self.dl.step()\n",
    "    self.dl.spawn(ratio=0.1, age=1000)\n",
    "\n",
    "# render draws the model (idempotent)\n",
    "def render_dl(self):\n",
    "    # clear the screen\n",
    "    self.fill(255)\n",
    "    self.cur_outline = self.cur_fill\n",
    "    self.rectangle(0,0,320,320)\n",
    "\n",
    "    # get the geometry to draw\n",
    "    num = self.dl.num\n",
    "    vertices, edges = self.dl.link_export()\n",
    "    # window size is currently 320\n",
    "    vertices = vertices * 320\n",
    "\n",
    "    # draw edges\n",
    "    self.cur_fill = colors['purple']\n",
    "    for a,b in edges:\n",
    "      self.line(vertices[a,0], vertices[a,1], vertices[b,0], vertices[b,1])\n",
    "\n",
    "    # draw nodes\n",
    "    self.cur_fill = colors['front']\n",
    "    for i in xrange(num):\n",
    "      self.ellipse(vertices[i,0], vertices[i,1], dl.node_rad*0.6, fill=True)"
   ]
  },
  {
   "cell_type": "code",
   "execution_count": 4,
   "metadata": {
    "collapsed": false
   },
   "outputs": [],
   "source": [
    "wrapper = P55Wrapper(setupfn=setup_dl, stepfn=step_dl, renderfn=render_dl)\n",
    "wrapper.play.max = 500\n",
    "wrapper.redrawFreq = 5  # draw only every 5th step\n",
    "wrapper.widget"
   ]
  },
  {
   "cell_type": "code",
   "execution_count": null,
   "metadata": {
    "collapsed": true
   },
   "outputs": [],
   "source": []
  }
 ],
 "metadata": {
  "kernelspec": {
   "display_name": "Python 2",
   "language": "python",
   "name": "python2"
  },
  "language_info": {
   "codemirror_mode": {
    "name": "ipython",
    "version": 2
   },
   "file_extension": ".py",
   "mimetype": "text/x-python",
   "name": "python",
   "nbconvert_exporter": "python",
   "pygments_lexer": "ipython2",
   "version": "2.7.12"
  },
  "widgets": {
   "state": {
    "8f003be421774bb68c9ee61d64f46221": {
     "views": [
      {
       "cell_index": 5
      }
     ]
    }
   },
   "version": "1.2.0"
  }
 },
 "nbformat": 4,
 "nbformat_minor": 0
}
